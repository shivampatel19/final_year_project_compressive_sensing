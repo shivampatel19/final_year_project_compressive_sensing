{
 "cells": [
  {
   "cell_type": "code",
   "execution_count": null,
   "id": "04c4b828",
   "metadata": {},
   "outputs": [],
   "source": [
    "# Things to do :\n",
    "    \n",
    "# 1. Modify the model \n",
    "#     -> increase layers \n",
    "#     -> change contants - xavier normal - DONE\n",
    "#     -> add residual connection , if possible\n",
    "#     -> dropout layer - DONE\n",
    "#     -> fully connected layer\n",
    "    \n",
    "# 2. RGB Image compatible\n",
    "# 3. Any Image size compatible\n",
    "# 4. use of off-the-shelf denoiser (BM3D) on the intermediate reconstruction to improve the image's quality.\n",
    "# 5. Added DataParallel - nn.DataParallel to parallelize the model across multiple GPUs."
   ]
  },
  {
   "cell_type": "code",
   "execution_count": null,
   "id": "ab6a15a6",
   "metadata": {},
   "outputs": [],
   "source": []
  },
  {
   "cell_type": "code",
   "execution_count": null,
   "id": "1bdca4db",
   "metadata": {},
   "outputs": [],
   "source": []
  },
  {
   "cell_type": "code",
   "execution_count": null,
   "id": "69824c5e",
   "metadata": {},
   "outputs": [],
   "source": []
  },
  {
   "cell_type": "code",
   "execution_count": null,
   "id": "d14e0218",
   "metadata": {},
   "outputs": [],
   "source": []
  },
  {
   "cell_type": "code",
   "execution_count": null,
   "id": "8749347e",
   "metadata": {},
   "outputs": [],
   "source": []
  },
  {
   "cell_type": "code",
   "execution_count": null,
   "id": "27607167",
   "metadata": {},
   "outputs": [],
   "source": []
  },
  {
   "cell_type": "code",
   "execution_count": null,
   "id": "b8062178",
   "metadata": {},
   "outputs": [],
   "source": []
  },
  {
   "cell_type": "code",
   "execution_count": null,
   "id": "c8c3f9a3",
   "metadata": {},
   "outputs": [],
   "source": []
  },
  {
   "cell_type": "code",
   "execution_count": null,
   "id": "7790091e",
   "metadata": {},
   "outputs": [],
   "source": []
  }
 ],
 "metadata": {
  "kernelspec": {
   "display_name": "Python 3 (ipykernel)",
   "language": "python",
   "name": "python3"
  },
  "language_info": {
   "codemirror_mode": {
    "name": "ipython",
    "version": 3
   },
   "file_extension": ".py",
   "mimetype": "text/x-python",
   "name": "python",
   "nbconvert_exporter": "python",
   "pygments_lexer": "ipython3",
   "version": "3.8.8"
  }
 },
 "nbformat": 4,
 "nbformat_minor": 5
}
